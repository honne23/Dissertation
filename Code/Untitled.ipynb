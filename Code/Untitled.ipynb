{
 "cells": [
  {
   "cell_type": "code",
   "execution_count": 1,
   "metadata": {},
   "outputs": [],
   "source": [
    "import jgraph\n",
    "import os\n",
    "import json"
   ]
  },
  {
   "cell_type": "code",
   "execution_count": 4,
   "metadata": {},
   "outputs": [
    {
     "data": {
      "text/plain": [
       "['2020-08-21 11:27:49.787638.json',\n",
       " '2020-08-21 11:27:56.720375.json',\n",
       " '2020-08-21 11:28:03.666661.json',\n",
       " '2020-08-21 11:28:00.225996.json',\n",
       " '2020-08-21 11:27:53.306980.json']"
      ]
     },
     "execution_count": 4,
     "metadata": {},
     "output_type": "execute_result"
    }
   ],
   "source": [
    " os.listdir('Peptides')"
   ]
  },
  {
   "cell_type": "code",
   "execution_count": 6,
   "metadata": {},
   "outputs": [
    {
     "ename": "JSONDecodeError",
     "evalue": "Expecting value: line 1 column 1 (char 0)",
     "output_type": "error",
     "traceback": [
      "\u001b[0;31m---------------------------------------------------------------------------\u001b[0m",
      "\u001b[0;31mJSONDecodeError\u001b[0m                           Traceback (most recent call last)",
      "\u001b[0;32m<ipython-input-6-74b0050012b8>\u001b[0m in \u001b[0;36m<module>\u001b[0;34m\u001b[0m\n\u001b[0;32m----> 1\u001b[0;31m \u001b[0mgraph\u001b[0m \u001b[0;34m=\u001b[0m \u001b[0mjson\u001b[0m\u001b[0;34m.\u001b[0m\u001b[0mloads\u001b[0m\u001b[0;34m(\u001b[0m\u001b[0;34m'Peptides/2020-08-21 11:27:49.787638.json'\u001b[0m\u001b[0;34m)\u001b[0m\u001b[0;34m\u001b[0m\u001b[0;34m\u001b[0m\u001b[0m\n\u001b[0m",
      "\u001b[0;32m~/miniconda3/lib/python3.7/json/__init__.py\u001b[0m in \u001b[0;36mloads\u001b[0;34m(s, encoding, cls, object_hook, parse_float, parse_int, parse_constant, object_pairs_hook, **kw)\u001b[0m\n\u001b[1;32m    346\u001b[0m             \u001b[0mparse_int\u001b[0m \u001b[0;32mis\u001b[0m \u001b[0;32mNone\u001b[0m \u001b[0;32mand\u001b[0m \u001b[0mparse_float\u001b[0m \u001b[0;32mis\u001b[0m \u001b[0;32mNone\u001b[0m \u001b[0;32mand\u001b[0m\u001b[0;34m\u001b[0m\u001b[0;34m\u001b[0m\u001b[0m\n\u001b[1;32m    347\u001b[0m             parse_constant is None and object_pairs_hook is None and not kw):\n\u001b[0;32m--> 348\u001b[0;31m         \u001b[0;32mreturn\u001b[0m \u001b[0m_default_decoder\u001b[0m\u001b[0;34m.\u001b[0m\u001b[0mdecode\u001b[0m\u001b[0;34m(\u001b[0m\u001b[0ms\u001b[0m\u001b[0;34m)\u001b[0m\u001b[0;34m\u001b[0m\u001b[0;34m\u001b[0m\u001b[0m\n\u001b[0m\u001b[1;32m    349\u001b[0m     \u001b[0;32mif\u001b[0m \u001b[0mcls\u001b[0m \u001b[0;32mis\u001b[0m \u001b[0;32mNone\u001b[0m\u001b[0;34m:\u001b[0m\u001b[0;34m\u001b[0m\u001b[0;34m\u001b[0m\u001b[0m\n\u001b[1;32m    350\u001b[0m         \u001b[0mcls\u001b[0m \u001b[0;34m=\u001b[0m \u001b[0mJSONDecoder\u001b[0m\u001b[0;34m\u001b[0m\u001b[0;34m\u001b[0m\u001b[0m\n",
      "\u001b[0;32m~/miniconda3/lib/python3.7/json/decoder.py\u001b[0m in \u001b[0;36mdecode\u001b[0;34m(self, s, _w)\u001b[0m\n\u001b[1;32m    335\u001b[0m \u001b[0;34m\u001b[0m\u001b[0m\n\u001b[1;32m    336\u001b[0m         \"\"\"\n\u001b[0;32m--> 337\u001b[0;31m         \u001b[0mobj\u001b[0m\u001b[0;34m,\u001b[0m \u001b[0mend\u001b[0m \u001b[0;34m=\u001b[0m \u001b[0mself\u001b[0m\u001b[0;34m.\u001b[0m\u001b[0mraw_decode\u001b[0m\u001b[0;34m(\u001b[0m\u001b[0ms\u001b[0m\u001b[0;34m,\u001b[0m \u001b[0midx\u001b[0m\u001b[0;34m=\u001b[0m\u001b[0m_w\u001b[0m\u001b[0;34m(\u001b[0m\u001b[0ms\u001b[0m\u001b[0;34m,\u001b[0m \u001b[0;36m0\u001b[0m\u001b[0;34m)\u001b[0m\u001b[0;34m.\u001b[0m\u001b[0mend\u001b[0m\u001b[0;34m(\u001b[0m\u001b[0;34m)\u001b[0m\u001b[0;34m)\u001b[0m\u001b[0;34m\u001b[0m\u001b[0;34m\u001b[0m\u001b[0m\n\u001b[0m\u001b[1;32m    338\u001b[0m         \u001b[0mend\u001b[0m \u001b[0;34m=\u001b[0m \u001b[0m_w\u001b[0m\u001b[0;34m(\u001b[0m\u001b[0ms\u001b[0m\u001b[0;34m,\u001b[0m \u001b[0mend\u001b[0m\u001b[0;34m)\u001b[0m\u001b[0;34m.\u001b[0m\u001b[0mend\u001b[0m\u001b[0;34m(\u001b[0m\u001b[0;34m)\u001b[0m\u001b[0;34m\u001b[0m\u001b[0;34m\u001b[0m\u001b[0m\n\u001b[1;32m    339\u001b[0m         \u001b[0;32mif\u001b[0m \u001b[0mend\u001b[0m \u001b[0;34m!=\u001b[0m \u001b[0mlen\u001b[0m\u001b[0;34m(\u001b[0m\u001b[0ms\u001b[0m\u001b[0;34m)\u001b[0m\u001b[0;34m:\u001b[0m\u001b[0;34m\u001b[0m\u001b[0;34m\u001b[0m\u001b[0m\n",
      "\u001b[0;32m~/miniconda3/lib/python3.7/json/decoder.py\u001b[0m in \u001b[0;36mraw_decode\u001b[0;34m(self, s, idx)\u001b[0m\n\u001b[1;32m    353\u001b[0m             \u001b[0mobj\u001b[0m\u001b[0;34m,\u001b[0m \u001b[0mend\u001b[0m \u001b[0;34m=\u001b[0m \u001b[0mself\u001b[0m\u001b[0;34m.\u001b[0m\u001b[0mscan_once\u001b[0m\u001b[0;34m(\u001b[0m\u001b[0ms\u001b[0m\u001b[0;34m,\u001b[0m \u001b[0midx\u001b[0m\u001b[0;34m)\u001b[0m\u001b[0;34m\u001b[0m\u001b[0;34m\u001b[0m\u001b[0m\n\u001b[1;32m    354\u001b[0m         \u001b[0;32mexcept\u001b[0m \u001b[0mStopIteration\u001b[0m \u001b[0;32mas\u001b[0m \u001b[0merr\u001b[0m\u001b[0;34m:\u001b[0m\u001b[0;34m\u001b[0m\u001b[0;34m\u001b[0m\u001b[0m\n\u001b[0;32m--> 355\u001b[0;31m             \u001b[0;32mraise\u001b[0m \u001b[0mJSONDecodeError\u001b[0m\u001b[0;34m(\u001b[0m\u001b[0;34m\"Expecting value\"\u001b[0m\u001b[0;34m,\u001b[0m \u001b[0ms\u001b[0m\u001b[0;34m,\u001b[0m \u001b[0merr\u001b[0m\u001b[0;34m.\u001b[0m\u001b[0mvalue\u001b[0m\u001b[0;34m)\u001b[0m \u001b[0;32mfrom\u001b[0m \u001b[0;32mNone\u001b[0m\u001b[0;34m\u001b[0m\u001b[0;34m\u001b[0m\u001b[0m\n\u001b[0m\u001b[1;32m    356\u001b[0m         \u001b[0;32mreturn\u001b[0m \u001b[0mobj\u001b[0m\u001b[0;34m,\u001b[0m \u001b[0mend\u001b[0m\u001b[0;34m\u001b[0m\u001b[0;34m\u001b[0m\u001b[0m\n",
      "\u001b[0;31mJSONDecodeError\u001b[0m: Expecting value: line 1 column 1 (char 0)"
     ]
    }
   ],
   "source": [
    "graph = json.loads('Peptides/2020-08-21 11:27:49.787638.json')"
   ]
  },
  {
   "cell_type": "code",
   "execution_count": 6,
   "metadata": {},
   "outputs": [],
   "source": [
    "item =  os.listdir('Peptides')[-1]\n",
    "with open(f'Peptides/{item}') as json_file:\n",
    "    graph = json.load(json_file)\n",
    "    "
   ]
  },
  {
   "cell_type": "code",
   "execution_count": 7,
   "metadata": {},
   "outputs": [
    {
     "data": {
      "text/html": [
       "<div id=\"graph-9a23394d-a0bd-4641-b994-bfa61c4e5787\"></div>\n",
       "           <script type=\"text/javascript\">\n",
       "           require.config({baseUrl: '/',\n",
       "                             paths: {jgraph: ['nbextensions/jgraph.min', 'https://rawgit.com/patrickfuller/jgraph/master/js/build/jgraph.min']}});\n",
       "           require(['jgraph'], function () {\n",
       "               var $d = $('#graph-9a23394d-a0bd-4641-b994-bfa61c4e5787');\n",
       "               $d.width(600); $d.height(400);\n",
       "               $d.jgraph = jQuery.extend({}, jgraph);\n",
       "               $d.jgraph.create($d, {nodeSize: 2.000000,\n",
       "                                     edgeSize: 0.250000,\n",
       "                                     defaultNodeColor: '0x5bc0de',\n",
       "                                     defaultEdgeColor: '0xaaaaaa',\n",
       "                                     shader: 'basic',\n",
       "                                     z: 60,\n",
       "                                     runOptimization: false,\n",
       "                                     directed: false,\n",
       "                                     showSave: false});\n",
       "               $d.jgraph.draw({\n",
       "    \"edges\": [\n",
       "        { \"size:\": 1, \"source\": 0, \"target\": 1 },\n",
       "        { \"size:\": 1, \"source\": 1, \"target\": 2 },\n",
       "        { \"size:\": 1, \"source\": 2, \"target\": 3 },\n",
       "        { \"size:\": 1, \"source\": 3, \"target\": 4 },\n",
       "        { \"size:\": 1, \"source\": 4, \"target\": 5 },\n",
       "        { \"size:\": 1, \"source\": 5, \"target\": 6 },\n",
       "        { \"size:\": 1, \"source\": 6, \"target\": 7 },\n",
       "        { \"size:\": 1, \"source\": 7, \"target\": 8 },\n",
       "        { \"size:\": 1, \"source\": 8, \"target\": 9 },\n",
       "        { \"size:\": 1, \"source\": 9, \"target\": 10 },\n",
       "        { \"size:\": 1, \"source\": 10, \"target\": 11 },\n",
       "        { \"size:\": 1, \"source\": 11, \"target\": 12 },\n",
       "        { \"size:\": 1, \"source\": 12, \"target\": 13 },\n",
       "        { \"size:\": 1, \"source\": 13, \"target\": 14 },\n",
       "        { \"size:\": 1, \"source\": 14, \"target\": 15 },\n",
       "        { \"size:\": 1, \"source\": 15, \"target\": 16 },\n",
       "        { \"size:\": 1, \"source\": 16, \"target\": 17 },\n",
       "        { \"size:\": 1, \"source\": 17, \"target\": 18 },\n",
       "        { \"size:\": 1, \"source\": 18, \"target\": 19 },\n",
       "        { \"size:\": 1, \"source\": 19, \"target\": 20 },\n",
       "        { \"size:\": 1, \"source\": 20, \"target\": 21 },\n",
       "        { \"size:\": 1, \"source\": 21, \"target\": 22 },\n",
       "        { \"size:\": 1, \"source\": 22, \"target\": 23 },\n",
       "        { \"size:\": 1, \"source\": 23, \"target\": 24 },\n",
       "        { \"size:\": 1, \"source\": 24, \"target\": 25 },\n",
       "        { \"size:\": 1, \"source\": 25, \"target\": 26 },\n",
       "        { \"size:\": 1, \"source\": 26, \"target\": 27 },\n",
       "        { \"size:\": 1, \"source\": 27, \"target\": 28 },\n",
       "        { \"size:\": 1, \"source\": 28, \"target\": 29 },\n",
       "        { \"size:\": 1, \"source\": 29, \"target\": 30 },\n",
       "        { \"size:\": 1, \"source\": 30, \"target\": 31 },\n",
       "        { \"size:\": 1, \"source\": 31, \"target\": 32 },\n",
       "        { \"size:\": 1, \"source\": 32, \"target\": 33 },\n",
       "        { \"size:\": 1, \"source\": 33, \"target\": 34 },\n",
       "        { \"size:\": 1, \"source\": 34, \"target\": 35 },\n",
       "        { \"size:\": 1, \"source\": 35, \"target\": 36 },\n",
       "        { \"size:\": 1, \"source\": 36, \"target\": 37 },\n",
       "        { \"size:\": 1, \"source\": 37, \"target\": 38 },\n",
       "        { \"size:\": 1, \"source\": 38, \"target\": 39 },\n",
       "        { \"size:\": 1, \"source\": 39, \"target\": 40 },\n",
       "        { \"size:\": 1, \"source\": 40, \"target\": 41 },\n",
       "        { \"size:\": 1, \"source\": 41, \"target\": 42 },\n",
       "        { \"size:\": 1, \"source\": 42, \"target\": 43 },\n",
       "        { \"size:\": 1, \"source\": 43, \"target\": 44 },\n",
       "        { \"size:\": 1, \"source\": 44, \"target\": 45 }\n",
       "    ],\n",
       "    \"nodes\": {\n",
       "        \"0\": { \"color\": \"0xA9BCD0\", \"location\": [ 0.0, 0.0, 0.0 ], \"size\": 1 },\n",
       "        \"1\": { \"color\": \"0xD8DBE2\", \"location\": [ 0.0, -5.0, 5.0 ], \"size\": 1 },\n",
       "        \"10\": { \"color\": \"0xD8DBE2\", \"location\": [ 30.0, 25.0, 35.0 ], \"size\": 1 },\n",
       "        \"11\": { \"color\": \"0xA9BCD0\", \"location\": [ 35.0, 20.0, 35.0 ], \"size\": 1 },\n",
       "        \"12\": { \"color\": \"0xDAA49A\", \"location\": [ 35.0, 25.0, 40.0 ], \"size\": 1 },\n",
       "        \"13\": { \"color\": \"0x373F51\", \"location\": [ 35.0, 30.0, 35.0 ], \"size\": 1 },\n",
       "        \"14\": { \"color\": \"0xA9BCD0\", \"location\": [ 25.0, 25.0, 30.0 ], \"size\": 1 },\n",
       "        \"15\": { \"color\": \"0xDAA49A\", \"location\": [ 20.0, 25.0, 35.0 ], \"size\": 1 },\n",
       "        \"16\": { \"color\": \"0xA9BCD0\", \"location\": [ 20.0, 30.0, 30.0 ], \"size\": 1 },\n",
       "        \"17\": { \"color\": \"0x373F51\", \"location\": [ 10.0, 20.0, 20.0 ], \"size\": 1 },\n",
       "        \"18\": { \"color\": \"0xA9BCD0\", \"location\": [ 15.0, 30.0, 25.0 ], \"size\": 1 },\n",
       "        \"19\": { \"color\": \"0x58A4B0\", \"location\": [ 15.0, 25.0, 20.0 ], \"size\": 1 },\n",
       "        \"2\": { \"color\": \"0xA9BCD0\", \"location\": [ 10.0, -5.0, 5.0 ], \"size\": 1 },\n",
       "        \"20\": { \"color\": \"0xD8DBE2\", \"location\": [ 10.0, 30.0, 20.0 ], \"size\": 1 },\n",
       "        \"21\": { \"color\": \"0xA9BCD0\", \"location\": [ 0.0, 30.0, 20.0 ], \"size\": 1 },\n",
       "        \"22\": { \"color\": \"0xA9BCD0\", \"location\": [ 0.0, 30.0, 30.0 ], \"size\": 1 },\n",
       "        \"23\": { \"color\": \"0xA9BCD0\", \"location\": [ 0.0, 40.0, 30.0 ], \"size\": 1 },\n",
       "        \"24\": { \"color\": \"0xDAA49A\", \"location\": [ 0.0, 45.0, 25.0 ], \"size\": 1 },\n",
       "        \"25\": { \"color\": \"0xA9BCD0\", \"location\": [ 5.0, 55.0, 30.0 ], \"size\": 1 },\n",
       "        \"26\": { \"color\": \"0xD8DBE2\", \"location\": [ 10.0, 60.0, 40.0 ], \"size\": 1 },\n",
       "        \"27\": { \"color\": \"0xA9BCD0\", \"location\": [ 10.0, 55.0, 45.0 ], \"size\": 1 },\n",
       "        \"28\": { \"color\": \"0xD8DBE2\", \"location\": [ 0.0, 55.0, 45.0 ], \"size\": 1 },\n",
       "        \"29\": { \"color\": \"0xA9BCD0\", \"location\": [ 0.0, 55.0, 55.0 ], \"size\": 1 },\n",
       "        \"3\": { \"color\": \"0x373F51\", \"location\": [ 15.0, 0.0, 15.0 ], \"size\": 1 },\n",
       "        \"30\": { \"color\": \"0xD8DBE2\", \"location\": [ -5.0, 45.0, 50.0 ], \"size\": 1 },\n",
       "        \"31\": { \"color\": \"0xA9BCD0\", \"location\": [ -15.0, 45.0, 50.0 ], \"size\": 1 },\n",
       "        \"32\": { \"color\": \"0xA9BCD0\", \"location\": [ -15.0, 40.0, 45.0 ], \"size\": 1 },\n",
       "        \"33\": { \"color\": \"0xD8DBE2\", \"location\": [ -15.0, 35.0, 40.0 ], \"size\": 1 },\n",
       "        \"34\": { \"color\": \"0xD8DBE2\", \"location\": [ -25.0, 25.0, 30.0 ], \"size\": 1 },\n",
       "        \"35\": { \"color\": \"0xD8DBE2\", \"location\": [ -30.0, 20.0, 20.0 ], \"size\": 1 },\n",
       "        \"36\": { \"color\": \"0xA9BCD0\", \"location\": [ -35.0, 25.0, 20.0 ], \"size\": 1 },\n",
       "        \"37\": { \"color\": \"0xA9BCD0\", \"location\": [ -40.0, 20.0, 10.0 ], \"size\": 1 },\n",
       "        \"38\": { \"color\": \"0xA9BCD0\", \"location\": [ -40.0, 10.0, 10.0 ], \"size\": 1 },\n",
       "        \"39\": { \"color\": \"0xDAA49A\", \"location\": [ -45.0, 0.0, 5.0 ], \"size\": 1 },\n",
       "        \"4\": { \"color\": \"0xDAA49A\", \"location\": [ 20.0, 5.0, 25.0 ], \"size\": 1 },\n",
       "        \"40\": { \"color\": \"0xDAA49A\", \"location\": [ -50.0, -5.0, 5.0 ], \"size\": 1 },\n",
       "        \"41\": { \"color\": \"0xA9BCD0\", \"location\": [ -55.0, -10.0, 5.0 ], \"size\": 1 },\n",
       "        \"42\": { \"color\": \"0xA9BCD0\", \"location\": [ -60.0, -15.0, 5.0 ], \"size\": 1 },\n",
       "        \"43\": { \"color\": \"0x58A4B0\", \"location\": [ -55.0, -20.0, 5.0 ], \"size\": 1 },\n",
       "        \"44\": { \"color\": \"0x58A4B0\", \"location\": [ -55.0, -15.0, 10.0 ], \"size\": 1 },\n",
       "        \"45\": { \"color\": \"0xD8DBE2\", \"location\": [ -50.0, -10.0, 20.0 ], \"size\": 1 },\n",
       "        \"5\": { \"color\": \"0xDAA49A\", \"location\": [ 20.0, 10.0, 20.0 ], \"size\": 1 },\n",
       "        \"6\": { \"color\": \"0xD8DBE2\", \"location\": [ 30.0, 20.0, 30.0 ], \"size\": 1 },\n",
       "        \"7\": { \"color\": \"0xD8DBE2\", \"location\": [ 30.0, 30.0, 30.0 ], \"size\": 1 },\n",
       "        \"8\": { \"color\": \"0x373F51\", \"location\": [ 25.0, 20.0, 25.0 ], \"size\": 1 },\n",
       "        \"9\": { \"color\": \"0xDAA49A\", \"location\": [ 30.0, 25.0, 25.0 ], \"size\": 1 }\n",
       "    }\n",
       "});\n",
       "\n",
       "               $d.resizable({\n",
       "                   aspectRatio: 600 / 400,\n",
       "                   resize: function (evt, ui) {\n",
       "                       $d.jgraph.renderer.setSize(ui.size.width,\n",
       "                                                  ui.size.height);\n",
       "                   }\n",
       "               });\n",
       "           });\n",
       "           </script>"
      ],
      "text/plain": [
       "<IPython.core.display.HTML object>"
      ]
     },
     "metadata": {},
     "output_type": "display_data"
    }
   ],
   "source": [
    "jgraph.draw(graph, z=60,optimize=False, directed=False)"
   ]
  },
  {
   "cell_type": "code",
   "execution_count": null,
   "metadata": {},
   "outputs": [],
   "source": []
  },
  {
   "cell_type": "raw",
   "metadata": {},
   "source": []
  },
  {
   "cell_type": "raw",
   "metadata": {},
   "source": []
  }
 ],
 "metadata": {
  "kernelspec": {
   "display_name": "Python 3",
   "language": "python",
   "name": "python3"
  },
  "language_info": {
   "codemirror_mode": {
    "name": "ipython",
    "version": 3
   },
   "file_extension": ".py",
   "mimetype": "text/x-python",
   "name": "python",
   "nbconvert_exporter": "python",
   "pygments_lexer": "ipython3",
   "version": "3.7.4"
  }
 },
 "nbformat": 4,
 "nbformat_minor": 4
}
